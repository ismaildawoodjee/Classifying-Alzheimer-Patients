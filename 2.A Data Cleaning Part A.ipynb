{
 "cells": [
  {
   "cell_type": "markdown",
   "metadata": {},
   "source": [
    "# Data Cleaning Part A\n",
    "\n",
    "\n",
    "### Findings\n",
    "- After variable-specific null entries are replaced with `NaN`, there were 181 variables with over 50% missing data. These variables were dropped.\n",
    "- Out of the eight continuous variables (including `WEIGHT`), only 3 were actually found to be continuous. This was discovered by plotting histogram distributions of the continuous variables.\n",
    "- The 3 continuous variables are not correlated to the target `outcome`, so they were also dropped, making the dataset entirely categorical.\n",
    "- The partially preprocessed dataset `MASTEROUTCOME_2.csv` was saved to the local directory.\n",
    "\n",
    "### Tasks\n",
    "- Clean the rest of the categorical variables using variable-specific random sample imputation.\n",
    "- Check for collinearity between variables using ~~Spearman's Rank correlation~~. The unbiased Cramer's V is better than Spearman's for categorical variables.\n",
    "- Check for correlation with target `outcome` as well, keeping in mind statistical significance.\n",
    "- Explore top 20 highly correlated variables.\n",
    "- Also explore 20 variables that could cause Alzheimer's according to the literature and experts, and check for consistency with what was found from this dataset.\n",
    "\n",
    "\n",
    "**Ismail Dawoodjee 1:50 AM 15-Oct-2020**"
   ]
  },
  {
   "cell_type": "code",
   "execution_count": 3,
   "metadata": {},
   "outputs": [],
   "source": [
    "import numpy as np\n",
    "import pandas as pd\n",
    "import seaborn as sns\n",
    "import matplotlib.pyplot as plt"
   ]
  },
  {
   "cell_type": "markdown",
   "metadata": {},
   "source": [
    "### Exploring severity of missing data without accounting for variable-specific encodings"
   ]
  },
  {
   "cell_type": "markdown",
   "metadata": {},
   "source": [
    "Firstly, let's see how many null entries there are when only `-4` entries are taken to be null. "
   ]
  },
  {
   "cell_type": "code",
   "execution_count": 70,
   "metadata": {},
   "outputs": [],
   "source": [
    "df = pd.read_csv('MASTEROUTCOME.csv', na_values=[-4])"
   ]
  },
  {
   "cell_type": "code",
   "execution_count": 53,
   "metadata": {},
   "outputs": [
    {
     "data": {
      "text/html": [
       "<div>\n",
       "<style scoped>\n",
       "    .dataframe tbody tr th:only-of-type {\n",
       "        vertical-align: middle;\n",
       "    }\n",
       "\n",
       "    .dataframe tbody tr th {\n",
       "        vertical-align: top;\n",
       "    }\n",
       "\n",
       "    .dataframe thead th {\n",
       "        text-align: right;\n",
       "    }\n",
       "</style>\n",
       "<table border=\"1\" class=\"dataframe\">\n",
       "  <thead>\n",
       "    <tr style=\"text-align: right;\">\n",
       "      <th></th>\n",
       "      <th>SEX</th>\n",
       "      <th>RACE</th>\n",
       "      <th>EDUC</th>\n",
       "      <th>MARISTAT</th>\n",
       "      <th>NACCLIVS</th>\n",
       "      <th>INDEPEND</th>\n",
       "      <th>RESIDENC</th>\n",
       "      <th>NACCFAM</th>\n",
       "      <th>NACCAM</th>\n",
       "      <th>NACCFM</th>\n",
       "      <th>...</th>\n",
       "      <th>NACCEPMD</th>\n",
       "      <th>NACCHTNC</th>\n",
       "      <th>NACCLIPL</th>\n",
       "      <th>NACCNSD</th>\n",
       "      <th>NACCPDMD</th>\n",
       "      <th>NACCVASD</th>\n",
       "      <th>NACCBMI</th>\n",
       "      <th>NACCUDSD</th>\n",
       "      <th>NACCDIED</th>\n",
       "      <th>outcome</th>\n",
       "    </tr>\n",
       "  </thead>\n",
       "  <tbody>\n",
       "    <tr>\n",
       "      <th>0</th>\n",
       "      <td>1.0</td>\n",
       "      <td>1.0</td>\n",
       "      <td>18.0</td>\n",
       "      <td>1.0</td>\n",
       "      <td>2.0</td>\n",
       "      <td>1.0</td>\n",
       "      <td>1.0</td>\n",
       "      <td>1.0</td>\n",
       "      <td>0.0</td>\n",
       "      <td>0.0</td>\n",
       "      <td>...</td>\n",
       "      <td>0.0</td>\n",
       "      <td>0.0</td>\n",
       "      <td>1.0</td>\n",
       "      <td>0.0</td>\n",
       "      <td>0.0</td>\n",
       "      <td>0.0</td>\n",
       "      <td>32.4</td>\n",
       "      <td>1.0</td>\n",
       "      <td>0.0</td>\n",
       "      <td>1.0</td>\n",
       "    </tr>\n",
       "    <tr>\n",
       "      <th>1</th>\n",
       "      <td>2.0</td>\n",
       "      <td>1.0</td>\n",
       "      <td>16.0</td>\n",
       "      <td>1.0</td>\n",
       "      <td>2.0</td>\n",
       "      <td>2.0</td>\n",
       "      <td>1.0</td>\n",
       "      <td>1.0</td>\n",
       "      <td>NaN</td>\n",
       "      <td>NaN</td>\n",
       "      <td>...</td>\n",
       "      <td>0.0</td>\n",
       "      <td>0.0</td>\n",
       "      <td>1.0</td>\n",
       "      <td>0.0</td>\n",
       "      <td>0.0</td>\n",
       "      <td>0.0</td>\n",
       "      <td>NaN</td>\n",
       "      <td>4.0</td>\n",
       "      <td>1.0</td>\n",
       "      <td>1.0</td>\n",
       "    </tr>\n",
       "    <tr>\n",
       "      <th>2</th>\n",
       "      <td>1.0</td>\n",
       "      <td>1.0</td>\n",
       "      <td>16.0</td>\n",
       "      <td>1.0</td>\n",
       "      <td>2.0</td>\n",
       "      <td>1.0</td>\n",
       "      <td>1.0</td>\n",
       "      <td>1.0</td>\n",
       "      <td>NaN</td>\n",
       "      <td>NaN</td>\n",
       "      <td>...</td>\n",
       "      <td>0.0</td>\n",
       "      <td>0.0</td>\n",
       "      <td>0.0</td>\n",
       "      <td>1.0</td>\n",
       "      <td>0.0</td>\n",
       "      <td>0.0</td>\n",
       "      <td>NaN</td>\n",
       "      <td>4.0</td>\n",
       "      <td>1.0</td>\n",
       "      <td>1.0</td>\n",
       "    </tr>\n",
       "    <tr>\n",
       "      <th>3</th>\n",
       "      <td>1.0</td>\n",
       "      <td>1.0</td>\n",
       "      <td>16.0</td>\n",
       "      <td>1.0</td>\n",
       "      <td>2.0</td>\n",
       "      <td>1.0</td>\n",
       "      <td>1.0</td>\n",
       "      <td>0.0</td>\n",
       "      <td>NaN</td>\n",
       "      <td>NaN</td>\n",
       "      <td>...</td>\n",
       "      <td>0.0</td>\n",
       "      <td>0.0</td>\n",
       "      <td>0.0</td>\n",
       "      <td>0.0</td>\n",
       "      <td>0.0</td>\n",
       "      <td>0.0</td>\n",
       "      <td>25.4</td>\n",
       "      <td>1.0</td>\n",
       "      <td>0.0</td>\n",
       "      <td>1.0</td>\n",
       "    </tr>\n",
       "    <tr>\n",
       "      <th>4</th>\n",
       "      <td>1.0</td>\n",
       "      <td>1.0</td>\n",
       "      <td>12.0</td>\n",
       "      <td>2.0</td>\n",
       "      <td>3.0</td>\n",
       "      <td>2.0</td>\n",
       "      <td>1.0</td>\n",
       "      <td>NaN</td>\n",
       "      <td>NaN</td>\n",
       "      <td>NaN</td>\n",
       "      <td>...</td>\n",
       "      <td>0.0</td>\n",
       "      <td>0.0</td>\n",
       "      <td>1.0</td>\n",
       "      <td>0.0</td>\n",
       "      <td>1.0</td>\n",
       "      <td>0.0</td>\n",
       "      <td>30.4</td>\n",
       "      <td>4.0</td>\n",
       "      <td>1.0</td>\n",
       "      <td>1.0</td>\n",
       "    </tr>\n",
       "  </tbody>\n",
       "</table>\n",
       "<p>5 rows × 398 columns</p>\n",
       "</div>"
      ],
      "text/plain": [
       "   SEX  RACE  EDUC  MARISTAT  NACCLIVS  INDEPEND  RESIDENC  NACCFAM  NACCAM  \\\n",
       "0  1.0   1.0  18.0       1.0       2.0       1.0       1.0      1.0     0.0   \n",
       "1  2.0   1.0  16.0       1.0       2.0       2.0       1.0      1.0     NaN   \n",
       "2  1.0   1.0  16.0       1.0       2.0       1.0       1.0      1.0     NaN   \n",
       "3  1.0   1.0  16.0       1.0       2.0       1.0       1.0      0.0     NaN   \n",
       "4  1.0   1.0  12.0       2.0       3.0       2.0       1.0      NaN     NaN   \n",
       "\n",
       "   NACCFM  ...  NACCEPMD  NACCHTNC  NACCLIPL  NACCNSD  NACCPDMD  NACCVASD  \\\n",
       "0     0.0  ...       0.0       0.0       1.0      0.0       0.0       0.0   \n",
       "1     NaN  ...       0.0       0.0       1.0      0.0       0.0       0.0   \n",
       "2     NaN  ...       0.0       0.0       0.0      1.0       0.0       0.0   \n",
       "3     NaN  ...       0.0       0.0       0.0      0.0       0.0       0.0   \n",
       "4     NaN  ...       0.0       0.0       1.0      0.0       1.0       0.0   \n",
       "\n",
       "   NACCBMI  NACCUDSD  NACCDIED  outcome  \n",
       "0     32.4       1.0       0.0      1.0  \n",
       "1      NaN       4.0       1.0      1.0  \n",
       "2      NaN       4.0       1.0      1.0  \n",
       "3     25.4       1.0       0.0      1.0  \n",
       "4     30.4       4.0       1.0      1.0  \n",
       "\n",
       "[5 rows x 398 columns]"
      ]
     },
     "execution_count": 53,
     "metadata": {},
     "output_type": "execute_result"
    }
   ],
   "source": [
    "df.head()"
   ]
  },
  {
   "cell_type": "markdown",
   "metadata": {},
   "source": [
    "Four variables need to be dropped. These are `['NACCID', 'CVDIMAGX', 'NACCTMCI', 'IMPNOMCI']`."
   ]
  },
  {
   "cell_type": "code",
   "execution_count": 71,
   "metadata": {},
   "outputs": [],
   "source": [
    "df.drop(['NACCID', 'CVDIMAGX', 'NACCTMCI', 'IMPNOMCI'], axis=1, inplace=True)"
   ]
  },
  {
   "cell_type": "markdown",
   "metadata": {},
   "source": [
    "Seven variables are numerical/continuous. In addition, `WEIGHT` should be included into this, making a total of eight:\n",
    "\n",
    "`['HEIGHT', 'WEIGHT', 'MEMORY', 'ORIENT', 'JUDGMENT', 'COMMUN', 'HOMEHOBB', 'NACCBMI']`\n",
    "\n",
    "The rest are integer encoded categorical variables."
   ]
  },
  {
   "cell_type": "code",
   "execution_count": 72,
   "metadata": {},
   "outputs": [
    {
     "data": {
      "text/html": [
       "<div>\n",
       "<style scoped>\n",
       "    .dataframe tbody tr th:only-of-type {\n",
       "        vertical-align: middle;\n",
       "    }\n",
       "\n",
       "    .dataframe tbody tr th {\n",
       "        vertical-align: top;\n",
       "    }\n",
       "\n",
       "    .dataframe thead th {\n",
       "        text-align: right;\n",
       "    }\n",
       "</style>\n",
       "<table border=\"1\" class=\"dataframe\">\n",
       "  <thead>\n",
       "    <tr style=\"text-align: right;\">\n",
       "      <th></th>\n",
       "      <th>percentage_null</th>\n",
       "    </tr>\n",
       "  </thead>\n",
       "  <tbody>\n",
       "    <tr>\n",
       "      <th>SEX</th>\n",
       "      <td>0.0</td>\n",
       "    </tr>\n",
       "    <tr>\n",
       "      <th>RACE</th>\n",
       "      <td>0.0</td>\n",
       "    </tr>\n",
       "    <tr>\n",
       "      <th>EDUC</th>\n",
       "      <td>0.0</td>\n",
       "    </tr>\n",
       "    <tr>\n",
       "      <th>MARISTAT</th>\n",
       "      <td>0.0</td>\n",
       "    </tr>\n",
       "    <tr>\n",
       "      <th>NACCLIVS</th>\n",
       "      <td>0.0</td>\n",
       "    </tr>\n",
       "  </tbody>\n",
       "</table>\n",
       "</div>"
      ],
      "text/plain": [
       "          percentage_null\n",
       "SEX                   0.0\n",
       "RACE                  0.0\n",
       "EDUC                  0.0\n",
       "MARISTAT              0.0\n",
       "NACCLIVS              0.0"
      ]
     },
     "execution_count": 72,
     "metadata": {},
     "output_type": "execute_result"
    }
   ],
   "source": [
    "miss_perc = pd.DataFrame(round(df.isnull().sum()*100/len(df), 4), columns=['percentage_null'])\n",
    "miss_perc.head()"
   ]
  },
  {
   "cell_type": "code",
   "execution_count": 26,
   "metadata": {},
   "outputs": [
    {
     "data": {
      "text/html": [
       "<div>\n",
       "<style scoped>\n",
       "    .dataframe tbody tr th:only-of-type {\n",
       "        vertical-align: middle;\n",
       "    }\n",
       "\n",
       "    .dataframe tbody tr th {\n",
       "        vertical-align: top;\n",
       "    }\n",
       "\n",
       "    .dataframe thead th {\n",
       "        text-align: right;\n",
       "    }\n",
       "</style>\n",
       "<table border=\"1\" class=\"dataframe\">\n",
       "  <thead>\n",
       "    <tr style=\"text-align: right;\">\n",
       "      <th></th>\n",
       "      <th>percentage_null</th>\n",
       "    </tr>\n",
       "  </thead>\n",
       "  <tbody>\n",
       "    <tr>\n",
       "      <th>LOGIPREV</th>\n",
       "      <td>99.4269</td>\n",
       "    </tr>\n",
       "    <tr>\n",
       "      <th>FTLDSUBT</th>\n",
       "      <td>88.2013</td>\n",
       "    </tr>\n",
       "    <tr>\n",
       "      <th>CRAFTDTI</th>\n",
       "      <td>85.1347</td>\n",
       "    </tr>\n",
       "    <tr>\n",
       "      <th>CRAFTCUE</th>\n",
       "      <td>85.1347</td>\n",
       "    </tr>\n",
       "    <tr>\n",
       "      <th>UDSBENRS</th>\n",
       "      <td>85.1196</td>\n",
       "    </tr>\n",
       "  </tbody>\n",
       "</table>\n",
       "</div>"
      ],
      "text/plain": [
       "          percentage_null\n",
       "LOGIPREV          99.4269\n",
       "FTLDSUBT          88.2013\n",
       "CRAFTDTI          85.1347\n",
       "CRAFTCUE          85.1347\n",
       "UDSBENRS          85.1196"
      ]
     },
     "execution_count": 26,
     "metadata": {},
     "output_type": "execute_result"
    }
   ],
   "source": [
    "miss_perc.sort_values(by='percentage_null', ascending=False).head(5)"
   ]
  },
  {
   "cell_type": "markdown",
   "metadata": {},
   "source": [
    "Columns with over 50% null entries should be dropped."
   ]
  },
  {
   "cell_type": "code",
   "execution_count": 73,
   "metadata": {},
   "outputs": [
    {
     "data": {
      "text/plain": [
       "percentage_null    178\n",
       "dtype: int64"
      ]
     },
     "execution_count": 73,
     "metadata": {},
     "output_type": "execute_result"
    }
   ],
   "source": [
    "miss_perc[miss_perc['percentage_null'] >= 50].count()"
   ]
  },
  {
   "cell_type": "code",
   "execution_count": 74,
   "metadata": {},
   "outputs": [
    {
     "data": {
      "text/plain": [
       "percentage_null    182\n",
       "dtype: int64"
      ]
     },
     "execution_count": 74,
     "metadata": {},
     "output_type": "execute_result"
    }
   ],
   "source": [
    "miss_perc[miss_perc['percentage_null'] >= 20].count()"
   ]
  },
  {
   "cell_type": "markdown",
   "metadata": {},
   "source": [
    "There are 178 variables with missing entries over 50% and 182 varibles with over 20%. "
   ]
  },
  {
   "cell_type": "markdown",
   "metadata": {},
   "source": [
    "### Exploring severity of missing data after accounting for variable-specific encodings\n",
    "\n",
    "\n",
    "Now, let's see how many there are when variable-specific missing entries are included."
   ]
  },
  {
   "cell_type": "code",
   "execution_count": 106,
   "metadata": {},
   "outputs": [],
   "source": [
    "df = pd.read_csv('MASTEROUTCOME.csv')\n",
    "df.drop(['NACCID', 'CVDIMAGX', 'NACCTMCI', 'IMPNOMCI'], axis=1, inplace=True)"
   ]
  },
  {
   "cell_type": "code",
   "execution_count": 107,
   "metadata": {},
   "outputs": [],
   "source": [
    "miss = [[None],[None],[50, 99],[99],[9],[9],[9],[9, -4],[9, -4],[9, -4],\n",
    "        [None],[None],[-4],[9,-4],[9,-4],[88,99,-4],[888,999,-4],[9,-4],\n",
    "        [9,-4],[9,-4],[9,-4],[9,-4],[9,-4],[9,-4],[9,-4],[9,-4],[9,-4],\n",
    "        [9,-4],[9,-4],[9,-4],[9,-4],[9,-4],[9,-4],[9,-4],[9,-4],[9,-4],\n",
    "        [9,-4],[9,-4],[9,-4],[9,-4],[9,-4],[9,-4],[9,-4],[9,-4],[9,-4],\n",
    "        [88.8,-4],[888,-4],[888,-4],[888,-4],[888,-4],[9,-4],[9,-4],[-4],\n",
    "        [-4],[-4],[-4],[-4],[-4],[8,-4],[8,-4],[8,-4],[8,-4],[None],[None],\n",
    "        [None],[None],[None],[None],[9,-4],[9,-4],[9,-4],[9,-4],[9,-4],\n",
    "        [9,-4],[9,-4],[9,-4],[9,-4],[9,-4],[9,-4],[9,-4],[9,-4],[9,-4],\n",
    "        [9,-4],[9,-4],[9,-4],[9,-4],[9,-4],[9,-4],[9,-4],[9,-4],[9,-4],\n",
    "        [9,-4],[9,-4],[9,-4],[9,-4],[9,-4],[9,-4],[9,-4],[9,-4],[9,-4],\n",
    "        [9,-4],[9,-4],[9,-4],[9,-4],[9,-4],[9,-4],[9,-4],[88,-4],[9,-4],\n",
    "        [9,-4],[9,-4],[9,-4],[9,-4],[9,-4],[9,-4],[9,-4],[9,-4],[9,-4],\n",
    "        [8,-4],[8,-4],[8,-4],[8,-4],[8,-4],[8,-4],[8,-4],[8,-4],[8,-4],\n",
    "        [8,-4],[8,-4],[8,-4],[8,-4],[8,-4],[8,-4],[8,-4],[8,-4],[8,-4],\n",
    "        [8,-4],[4,99],[888,999],[-4],[9],[9],[9],[9],[9],[9],[9],[9],[9],\n",
    "        [9,-4],[9,-4],[10,99],[4,99],[888,999,-4],[-4],[9],[9],[9],[9],\n",
    "        [99],[4,99],[9,-4],[999,-4],[9,-4],[-4],[-4],[9],[9],[-4],[-4],\n",
    "        [-4],[-4],[-4],[-4],[-4],[-4],[-4],[-4],[-4],[-4],[-4],[-4],[-4],\n",
    "        [-4],[-4],[-4],[-4],[-4],[-4],[-4],[-4],[9,-4],[-4],[-4],[-4],\n",
    "        [-4],[-4],[-4],[-4],[-4],[-4],[-4],[-4],[-4],[-4],[-4],[-4],[-4],\n",
    "        [-4],[-4],[-4],[-4],[-4],[-4],[-4],[-4],[-4],[-4],[-4],[-4],[-4],\n",
    "        [-4],[-4],[99,-4],[-4],[-4],[-4],[-4],[-4],[-4],[-4],[-4],[None],\n",
    "        [None],[-4],[-4],[None],[-4],[-4],[None],[None],[-4],[None],[None],\n",
    "        [None],[None],[8,-4],[8,-4],[8,-4],[8,-4],[8,-4],[8,-4],[8,-4],\n",
    "        [8,-4],[8,-4],[8,-4],[-4],[8,-4],[8,-4],[8,-4],[8,-4],[8,-4],[8,-4],\n",
    "        [8,-4],[9,-4],[8],[-4],[-4],[-4],[-4],[-4],[None],[None],[-4],[-4],\n",
    "        [None],[None],[None],[None],[-4],[-4],[-4],[-4],[-4],[-4],[-4],[-4],\n",
    "        [-4],[-4],[-4],[-4],[-4],[9,-4],[-4],[-4],[-4],[-4],[-4],[-4],[-4],\n",
    "        [-4],[-4],[-4],[None],[-4],[None],[-4],[None],[-4],[None],[-4],\n",
    "        [-4],[None],[-4],[-4],[-4],[None],[-4],[-4],[-4],[-4],[-4],[-4],\n",
    "        [-4],[None],[-4],[-4],[-4],[-4],[-4],[-4],[-4],[-4],[-4],[-4],\n",
    "        [-4],[None],[None],[None],[None],[-4],[-4],[-4],[None],[-4],[None],\n",
    "        [-4],[-4],[-4],[-4],[-4],[-4],[-4],[-4],[-4],[-4],[-4],[-4],[-4],\n",
    "        [-4],[-4],[-4],[-4],[-4],[-4],[-4],[-4],[-4],[-4],[-4],[-4],[-4],\n",
    "        [99],[-4],[-4],[-4],[-4],[-4],[-4],[-4],[-4],[-4],[-4],[-4],\n",
    "        [-4],[-4],[-4],[-4],[-4],[-4],[-4],[-4],[-4],[-4],[888.8,-4],[None],\n",
    "        [None],[None]]"
   ]
  },
  {
   "cell_type": "code",
   "execution_count": 108,
   "metadata": {},
   "outputs": [
    {
     "data": {
      "text/plain": [
       "398"
      ]
     },
     "execution_count": 108,
     "metadata": {},
     "output_type": "execute_result"
    }
   ],
   "source": [
    "len(miss)"
   ]
  },
  {
   "cell_type": "markdown",
   "metadata": {},
   "source": [
    "For each missing value placeholder list `m` and its corresponding variable `v`, if the variable entries are in the placeholder list, replace the placeholder (e.g. 888.8) with a `NaN`."
   ]
  },
  {
   "cell_type": "code",
   "execution_count": 109,
   "metadata": {},
   "outputs": [],
   "source": [
    "for (m, v) in zip(miss, df.columns.to_list()):\n",
    "    \n",
    "    df.loc[df[v].isin(m), v] = float(np.nan)"
   ]
  },
  {
   "cell_type": "code",
   "execution_count": 110,
   "metadata": {},
   "outputs": [
    {
     "data": {
      "text/plain": [
       "percentage_null    181\n",
       "dtype: int64"
      ]
     },
     "execution_count": 110,
     "metadata": {},
     "output_type": "execute_result"
    }
   ],
   "source": [
    "miss_perc = pd.DataFrame(df.isnull().sum()*100/len(df), columns=['percentage_null'])\n",
    "miss_perc[miss_perc['percentage_null'] >= 50].count()"
   ]
  },
  {
   "cell_type": "code",
   "execution_count": 85,
   "metadata": {},
   "outputs": [
    {
     "data": {
      "text/plain": [
       "percentage_null    185\n",
       "dtype: int64"
      ]
     },
     "execution_count": 85,
     "metadata": {},
     "output_type": "execute_result"
    }
   ],
   "source": [
    "miss_perc[miss_perc['percentage_null'] >= 20].count()"
   ]
  },
  {
   "cell_type": "markdown",
   "metadata": {},
   "source": [
    "There are 181 variables with over 50% missing entries and 185 variables with over 20% missing entries when variable-specific encoded missing entries are accounted for. This took quite a lot of time to carry out but did not yield much difference. Drop the variables with over 50% missing entries."
   ]
  },
  {
   "cell_type": "code",
   "execution_count": 111,
   "metadata": {},
   "outputs": [],
   "source": [
    "df.drop(miss_perc[miss_perc['percentage_null'] >= 50].index, axis=1, inplace=True)"
   ]
  },
  {
   "cell_type": "markdown",
   "metadata": {},
   "source": [
    "### Checking for collinearity between continuous variables"
   ]
  },
  {
   "cell_type": "markdown",
   "metadata": {},
   "source": [
    "Some variables are nominal categorical while others are ordinal categorical, and seven of them are continuous. Explore the histogram distribution of **continuous** variables:"
   ]
  },
  {
   "cell_type": "code",
   "execution_count": 128,
   "metadata": {},
   "outputs": [],
   "source": [
    "continuous = ['HEIGHT', 'WEIGHT', 'NACCBMI', 'MEMORY', 'ORIENT', 'JUDGMENT', 'COMMUN', 'HOMEHOBB']"
   ]
  },
  {
   "cell_type": "code",
   "execution_count": 39,
   "metadata": {},
   "outputs": [
    {
     "data": {
      "image/png": "[encoded data removed]",
      "text/plain": [
       "<Figure size 432x288 with 1 Axes>"
      ]
     },
     "metadata": {
      "needs_background": "light"
     },
     "output_type": "display_data"
    },
    {
     "data": {
      "image/png": "[encoded data removed]",
      "text/plain": [
       "<Figure size 432x288 with 1 Axes>"
      ]
     },
     "metadata": {
      "needs_background": "light"
     },
     "output_type": "display_data"
    },
    {
     "data": {
      "image/png": "[encoded data removed]",
      "text/plain": [
       "<Figure size 432x288 with 1 Axes>"
      ]
     },
     "metadata": {
      "needs_background": "light"
     },
     "output_type": "display_data"
    },
    {
     "data": {
      "image/png": "[encoded data removed]",
      "text/plain": [
       "<Figure size 432x288 with 1 Axes>"
      ]
     },
     "metadata": {
      "needs_background": "light"
     },
     "output_type": "display_data"
    },
    {
     "data": {
      "image/png": "[encoded data removed]",
      "text/plain": [
       "<Figure size 432x288 with 1 Axes>"
      ]
     },
     "metadata": {
      "needs_background": "light"
     },
     "output_type": "display_data"
    },
    {
     "data": {
      "image/png": "[encoded data removed]",
      "text/plain": [
       "<Figure size 432x288 with 1 Axes>"
      ]
     },
     "metadata": {
      "needs_background": "light"
     },
     "output_type": "display_data"
    },
    {
     "data": {
      "image/png": "[encoded data removed]",
      "text/plain": [
       "<Figure size 432x288 with 1 Axes>"
      ]
     },
     "metadata": {
      "needs_background": "light"
     },
     "output_type": "display_data"
    },
    {
     "data": {
      "image/png": "[encoded data removed]",
      "text/plain": [
       "<Figure size 432x288 with 1 Axes>"
      ]
     },
     "metadata": {
      "needs_background": "light"
     },
     "output_type": "display_data"
    }
   ],
   "source": [
    "for col in continuous:    \n",
    "    f, ax = plt.subplots()\n",
    "    df[col].plot(kind='hist')\n",
    "    plt.title(col)"
   ]
  },
  {
   "cell_type": "code",
   "execution_count": 130,
   "metadata": {},
   "outputs": [
    {
     "name": "stdout",
     "output_type": "stream",
     "text": [
      "5\n",
      "5\n",
      "5\n",
      "5\n",
      "5\n"
     ]
    }
   ],
   "source": [
    "for col in continuous[3:]:\n",
    "    print(df[col].nunique())"
   ]
  },
  {
   "cell_type": "markdown",
   "metadata": {},
   "source": [
    "**It appears that only `HEIGHT`, `WEIGHT` and `NACCBMI` are continuous, while the others are categorical (only 5 categories).** Python's `.dtypes` can be misleading in this case if visual exploration is not done. Investigate the correlation between the three continuous variables, along with the target `outcome` variable. The Pearson correlation was used here:"
   ]
  },
  {
   "cell_type": "code",
   "execution_count": 114,
   "metadata": {},
   "outputs": [
    {
     "data": {
      "text/html": [
       "<div>\n",
       "<style scoped>\n",
       "    .dataframe tbody tr th:only-of-type {\n",
       "        vertical-align: middle;\n",
       "    }\n",
       "\n",
       "    .dataframe tbody tr th {\n",
       "        vertical-align: top;\n",
       "    }\n",
       "\n",
       "    .dataframe thead th {\n",
       "        text-align: right;\n",
       "    }\n",
       "</style>\n",
       "<table border=\"1\" class=\"dataframe\">\n",
       "  <thead>\n",
       "    <tr style=\"text-align: right;\">\n",
       "      <th></th>\n",
       "      <th>HEIGHT</th>\n",
       "      <th>WEIGHT</th>\n",
       "      <th>NACCBMI</th>\n",
       "      <th>outcome</th>\n",
       "    </tr>\n",
       "  </thead>\n",
       "  <tbody>\n",
       "    <tr>\n",
       "      <th>HEIGHT</th>\n",
       "      <td>1.000000</td>\n",
       "      <td>0.537367</td>\n",
       "      <td>-0.020087</td>\n",
       "      <td>-0.022158</td>\n",
       "    </tr>\n",
       "    <tr>\n",
       "      <th>WEIGHT</th>\n",
       "      <td>0.537367</td>\n",
       "      <td>1.000000</td>\n",
       "      <td>0.826045</td>\n",
       "      <td>-0.005921</td>\n",
       "    </tr>\n",
       "    <tr>\n",
       "      <th>NACCBMI</th>\n",
       "      <td>-0.020087</td>\n",
       "      <td>0.826045</td>\n",
       "      <td>1.000000</td>\n",
       "      <td>0.006499</td>\n",
       "    </tr>\n",
       "    <tr>\n",
       "      <th>outcome</th>\n",
       "      <td>-0.022158</td>\n",
       "      <td>-0.005921</td>\n",
       "      <td>0.006499</td>\n",
       "      <td>1.000000</td>\n",
       "    </tr>\n",
       "  </tbody>\n",
       "</table>\n",
       "</div>"
      ],
      "text/plain": [
       "           HEIGHT    WEIGHT   NACCBMI   outcome\n",
       "HEIGHT   1.000000  0.537367 -0.020087 -0.022158\n",
       "WEIGHT   0.537367  1.000000  0.826045 -0.005921\n",
       "NACCBMI -0.020087  0.826045  1.000000  0.006499\n",
       "outcome -0.022158 -0.005921  0.006499  1.000000"
      ]
     },
     "execution_count": 114,
     "metadata": {},
     "output_type": "execute_result"
    }
   ],
   "source": [
    "continuous = ['HEIGHT', 'WEIGHT', 'NACCBMI', 'outcome']\n",
    "cont_corr = df[continuous].corr(method='pearson')\n",
    "cont_corr"
   ]
  },
  {
   "cell_type": "code",
   "execution_count": 92,
   "metadata": {},
   "outputs": [
    {
     "data": {
      "image/png": "[encoded data removed]",
      "text/plain": [
       "<Figure size 576x432 with 2 Axes>"
      ]
     },
     "metadata": {
      "needs_background": "light"
     },
     "output_type": "display_data"
    }
   ],
   "source": [
    "f, ax = plt.subplots(figsize=(8, 6))\n",
    "sns.heatmap(cont_corr, square=True, cmap='coolwarm', vmin=-1,\n",
    "            annot=True, fmt='.3f', annot_kws={'size': 15});"
   ]
  },
  {
   "cell_type": "markdown",
   "metadata": {},
   "source": [
    "The three continuous variables are not correlated to the target, so they can be dropped. This makes all the variables in the dataset categorical. Save the partially cleaned dataset to local directory."
   ]
  },
  {
   "cell_type": "code",
   "execution_count": 118,
   "metadata": {},
   "outputs": [],
   "source": [
    "df.drop(['HEIGHT', 'WEIGHT', 'NACCBMI'], axis=1, inplace=True)"
   ]
  },
  {
   "cell_type": "code",
   "execution_count": 121,
   "metadata": {},
   "outputs": [],
   "source": [
    "df.to_csv('MASTEROUTCOME_2.csv', index=False)"
   ]
  },
  {
   "cell_type": "code",
   "execution_count": null,
   "metadata": {},
   "outputs": [],
   "source": []
  }
 ],
 "metadata": {
  "kernelspec": {
   "display_name": "Python 3.7.5 64-bit ('nlp_course': conda)",
   "language": "python",
   "name": "python37564bitnlpcourseconda86a5b05d218b4c1395806f05482c8d94"
  },
  "language_info": {
   "codemirror_mode": {
    "name": "ipython",
    "version": 3
   },
   "file_extension": ".py",
   "mimetype": "text/x-python",
   "name": "python",
   "nbconvert_exporter": "python",
   "pygments_lexer": "ipython3",
   "version": "3.7.5"
  }
 },
 "nbformat": 4,
 "nbformat_minor": 2
}
